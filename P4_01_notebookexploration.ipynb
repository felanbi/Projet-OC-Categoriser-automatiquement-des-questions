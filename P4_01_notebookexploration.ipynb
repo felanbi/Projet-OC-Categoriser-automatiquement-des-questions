{
  "nbformat": 4,
  "nbformat_minor": 0,
  "metadata": {
    "colab": {
      "name": "P4_01_notebookexploration.ipynb",
      "provenance": [],
      "authorship_tag": "ABX9TyNymXejPYaBOSg/DQ2igJsd",
      "include_colab_link": true
    },
    "kernelspec": {
      "name": "python3",
      "display_name": "Python 3"
    },
    "language_info": {
      "name": "python"
    }
  },
  "cells": [
    {
      "cell_type": "markdown",
      "metadata": {
        "id": "view-in-github",
        "colab_type": "text"
      },
      "source": [
        "<a href=\"https://colab.research.google.com/github/felanbi/Projet-OC-Categoriser-automatiquement-des-questions/blob/main/P4_01_notebookexploration.ipynb\" target=\"_parent\"><img src=\"https://colab.research.google.com/assets/colab-badge.svg\" alt=\"Open In Colab\"/></a>"
      ]
    },
    {
      "cell_type": "code",
      "execution_count": 1,
      "metadata": {
        "colab": {
          "base_uri": "https://localhost:8080/"
        },
        "id": "8jmkk6wgkYse",
        "outputId": "6a8e46d9-58da-44a9-deb4-953a9033cdc3"
      },
      "outputs": [
        {
          "output_type": "stream",
          "name": "stdout",
          "text": [
            "Mounted at /content/drive\n"
          ]
        }
      ],
      "source": [
        "from google.colab import drive\n",
        "drive.mount('/content/drive')\n",
        "path_queries = 'drive/MyDrive/data/'"
      ]
    },
    {
      "cell_type": "code",
      "source": [
        "import pandas as pd\n",
        "import numpy as np\n",
        "import seaborn as sns\n",
        "import matplotlib.pyplot as plt\n",
        "import IPython.display\n",
        "import os\n",
        "import nltk"
      ],
      "metadata": {
        "id": "LPPkDlT0koaI"
      },
      "execution_count": 2,
      "outputs": []
    },
    {
      "cell_type": "code",
      "source": [
        "%load_ext autoreload\n",
        "%autoreload 2"
      ],
      "metadata": {
        "id": "6eiqsQjBkuh2"
      },
      "execution_count": 3,
      "outputs": []
    },
    {
      "cell_type": "code",
      "source": [
        "sql_query = '''\n",
        "SELECT\n",
        "  Id,\n",
        "  Title,\n",
        "  Body,\n",
        "  Tags\n",
        "FROM \n",
        "  Posts\n",
        "WHERE \n",
        "  Tags != ''\n",
        "  and CreationDate >= '2020-01-01' \n",
        "  and Score > 0\n",
        "  and ViewCount >= 100\n",
        "  and AnswerCount > 0\n",
        "'''"
      ],
      "metadata": {
        "id": "IXTBQYu9ku_V"
      },
      "execution_count": 4,
      "outputs": []
    },
    {
      "cell_type": "code",
      "source": [
        "data = pd.DataFrame()\n",
        "\n",
        "for f in os.listdir(path_queries):\n",
        "    if 'query' in f:\n",
        "        data = pd.concat([data,\n",
        "                          pd.read_csv(path_queries + f, index_col = 0)])\n",
        "\n",
        "data.columns = [col.lower() for col in data.columns]\n",
        "data.head()"
      ],
      "metadata": {
        "colab": {
          "base_uri": "https://localhost:8080/",
          "height": 238
        },
        "id": "NAj79bj5kxVC",
        "outputId": "82347675-a21f-473f-a9eb-2bb9c5bbb9ec"
      },
      "execution_count": 5,
      "outputs": [
        {
          "output_type": "execute_result",
          "data": {
            "text/html": [
              "\n",
              "  <div id=\"df-5d797bb2-e261-4a26-9f04-a354a42dc42c\">\n",
              "    <div class=\"colab-df-container\">\n",
              "      <div>\n",
              "<style scoped>\n",
              "    .dataframe tbody tr th:only-of-type {\n",
              "        vertical-align: middle;\n",
              "    }\n",
              "\n",
              "    .dataframe tbody tr th {\n",
              "        vertical-align: top;\n",
              "    }\n",
              "\n",
              "    .dataframe thead th {\n",
              "        text-align: right;\n",
              "    }\n",
              "</style>\n",
              "<table border=\"1\" class=\"dataframe\">\n",
              "  <thead>\n",
              "    <tr style=\"text-align: right;\">\n",
              "      <th></th>\n",
              "      <th>title</th>\n",
              "      <th>body</th>\n",
              "      <th>tags</th>\n",
              "    </tr>\n",
              "    <tr>\n",
              "      <th>Id</th>\n",
              "      <th></th>\n",
              "      <th></th>\n",
              "      <th></th>\n",
              "    </tr>\n",
              "  </thead>\n",
              "  <tbody>\n",
              "    <tr>\n",
              "      <th>65526399</th>\n",
              "      <td>Groovy script code to append xml node taking 1...</td>\n",
              "      <td>&lt;p&gt;Below code is working but taking 15+ hours ...</td>\n",
              "      <td>&lt;javascript&gt;&lt;xml&gt;&lt;groovy&gt;&lt;xml-parsing&gt;&lt;sap-clo...</td>\n",
              "    </tr>\n",
              "    <tr>\n",
              "      <th>65526401</th>\n",
              "      <td>How do I make a class instance using user input?</td>\n",
              "      <td>&lt;p&gt;I am making a text based adventure game in ...</td>\n",
              "      <td>&lt;python&gt;</td>\n",
              "    </tr>\n",
              "    <tr>\n",
              "      <th>65526407</th>\n",
              "      <td>How to remove Branding WHMCS Ver 8.1 \"Powered ...</td>\n",
              "      <td>&lt;p&gt;I am a newbie and this is the first time ev...</td>\n",
              "      <td>&lt;php&gt;&lt;jquery&gt;&lt;css&gt;&lt;templates&gt;&lt;whmcs&gt;</td>\n",
              "    </tr>\n",
              "    <tr>\n",
              "      <th>65526419</th>\n",
              "      <td>How can I construct my objects allocated throu...</td>\n",
              "      <td>&lt;p&gt;C++20 removed the &lt;code&gt;construct()&lt;/code&gt; ...</td>\n",
              "      <td>&lt;c++&gt;&lt;std&gt;&lt;c++20&gt;&lt;allocator&gt;</td>\n",
              "    </tr>\n",
              "    <tr>\n",
              "      <th>65526447</th>\n",
              "      <td>React Router v5.2 - Blocking route change with...</td>\n",
              "      <td>&lt;p&gt;My app has two pages: &lt;code&gt;Step1&lt;/code&gt; an...</td>\n",
              "      <td>&lt;javascript&gt;&lt;reactjs&gt;&lt;react-router&gt;&lt;react-rout...</td>\n",
              "    </tr>\n",
              "  </tbody>\n",
              "</table>\n",
              "</div>\n",
              "      <button class=\"colab-df-convert\" onclick=\"convertToInteractive('df-5d797bb2-e261-4a26-9f04-a354a42dc42c')\"\n",
              "              title=\"Convert this dataframe to an interactive table.\"\n",
              "              style=\"display:none;\">\n",
              "        \n",
              "  <svg xmlns=\"http://www.w3.org/2000/svg\" height=\"24px\"viewBox=\"0 0 24 24\"\n",
              "       width=\"24px\">\n",
              "    <path d=\"M0 0h24v24H0V0z\" fill=\"none\"/>\n",
              "    <path d=\"M18.56 5.44l.94 2.06.94-2.06 2.06-.94-2.06-.94-.94-2.06-.94 2.06-2.06.94zm-11 1L8.5 8.5l.94-2.06 2.06-.94-2.06-.94L8.5 2.5l-.94 2.06-2.06.94zm10 10l.94 2.06.94-2.06 2.06-.94-2.06-.94-.94-2.06-.94 2.06-2.06.94z\"/><path d=\"M17.41 7.96l-1.37-1.37c-.4-.4-.92-.59-1.43-.59-.52 0-1.04.2-1.43.59L10.3 9.45l-7.72 7.72c-.78.78-.78 2.05 0 2.83L4 21.41c.39.39.9.59 1.41.59.51 0 1.02-.2 1.41-.59l7.78-7.78 2.81-2.81c.8-.78.8-2.07 0-2.86zM5.41 20L4 18.59l7.72-7.72 1.47 1.35L5.41 20z\"/>\n",
              "  </svg>\n",
              "      </button>\n",
              "      \n",
              "  <style>\n",
              "    .colab-df-container {\n",
              "      display:flex;\n",
              "      flex-wrap:wrap;\n",
              "      gap: 12px;\n",
              "    }\n",
              "\n",
              "    .colab-df-convert {\n",
              "      background-color: #E8F0FE;\n",
              "      border: none;\n",
              "      border-radius: 50%;\n",
              "      cursor: pointer;\n",
              "      display: none;\n",
              "      fill: #1967D2;\n",
              "      height: 32px;\n",
              "      padding: 0 0 0 0;\n",
              "      width: 32px;\n",
              "    }\n",
              "\n",
              "    .colab-df-convert:hover {\n",
              "      background-color: #E2EBFA;\n",
              "      box-shadow: 0px 1px 2px rgba(60, 64, 67, 0.3), 0px 1px 3px 1px rgba(60, 64, 67, 0.15);\n",
              "      fill: #174EA6;\n",
              "    }\n",
              "\n",
              "    [theme=dark] .colab-df-convert {\n",
              "      background-color: #3B4455;\n",
              "      fill: #D2E3FC;\n",
              "    }\n",
              "\n",
              "    [theme=dark] .colab-df-convert:hover {\n",
              "      background-color: #434B5C;\n",
              "      box-shadow: 0px 1px 3px 1px rgba(0, 0, 0, 0.15);\n",
              "      filter: drop-shadow(0px 1px 2px rgba(0, 0, 0, 0.3));\n",
              "      fill: #FFFFFF;\n",
              "    }\n",
              "  </style>\n",
              "\n",
              "      <script>\n",
              "        const buttonEl =\n",
              "          document.querySelector('#df-5d797bb2-e261-4a26-9f04-a354a42dc42c button.colab-df-convert');\n",
              "        buttonEl.style.display =\n",
              "          google.colab.kernel.accessAllowed ? 'block' : 'none';\n",
              "\n",
              "        async function convertToInteractive(key) {\n",
              "          const element = document.querySelector('#df-5d797bb2-e261-4a26-9f04-a354a42dc42c');\n",
              "          const dataTable =\n",
              "            await google.colab.kernel.invokeFunction('convertToInteractive',\n",
              "                                                     [key], {});\n",
              "          if (!dataTable) return;\n",
              "\n",
              "          const docLinkHtml = 'Like what you see? Visit the ' +\n",
              "            '<a target=\"_blank\" href=https://colab.research.google.com/notebooks/data_table.ipynb>data table notebook</a>'\n",
              "            + ' to learn more about interactive tables.';\n",
              "          element.innerHTML = '';\n",
              "          dataTable['output_type'] = 'display_data';\n",
              "          await google.colab.output.renderOutput(dataTable, element);\n",
              "          const docLink = document.createElement('div');\n",
              "          docLink.innerHTML = docLinkHtml;\n",
              "          element.appendChild(docLink);\n",
              "        }\n",
              "      </script>\n",
              "    </div>\n",
              "  </div>\n",
              "  "
            ],
            "text/plain": [
              "                                                      title  \\\n",
              "Id                                                            \n",
              "65526399  Groovy script code to append xml node taking 1...   \n",
              "65526401   How do I make a class instance using user input?   \n",
              "65526407  How to remove Branding WHMCS Ver 8.1 \"Powered ...   \n",
              "65526419  How can I construct my objects allocated throu...   \n",
              "65526447  React Router v5.2 - Blocking route change with...   \n",
              "\n",
              "                                                       body  \\\n",
              "Id                                                            \n",
              "65526399  <p>Below code is working but taking 15+ hours ...   \n",
              "65526401  <p>I am making a text based adventure game in ...   \n",
              "65526407  <p>I am a newbie and this is the first time ev...   \n",
              "65526419  <p>C++20 removed the <code>construct()</code> ...   \n",
              "65526447  <p>My app has two pages: <code>Step1</code> an...   \n",
              "\n",
              "                                                       tags  \n",
              "Id                                                           \n",
              "65526399  <javascript><xml><groovy><xml-parsing><sap-clo...  \n",
              "65526401                                           <python>  \n",
              "65526407               <php><jquery><css><templates><whmcs>  \n",
              "65526419                       <c++><std><c++20><allocator>  \n",
              "65526447  <javascript><reactjs><react-router><react-rout...  "
            ]
          },
          "metadata": {},
          "execution_count": 5
        }
      ]
    }
  ]
}